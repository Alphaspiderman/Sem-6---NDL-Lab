{
 "cells": [
  {
   "cell_type": "code",
   "execution_count": 1,
   "metadata": {},
   "outputs": [],
   "source": [
    "import numpy as np"
   ]
  },
  {
   "cell_type": "code",
   "execution_count": 2,
   "metadata": {},
   "outputs": [],
   "source": [
    "def train_hopfield(patterns):\n",
    "    num_neurons = len(patterns[0])\n",
    "    weight_matrix = np.zeros((num_neurons, num_neurons))\n",
    "    for pattern in patterns:\n",
    "        pattern = np.array(pattern).reshape(-1, 1)\n",
    "        weight_matrix += pattern @ pattern.T\n",
    "    np.fill_diagonal(weight_matrix, 0)\n",
    "    return weight_matrix"
   ]
  },
  {
   "cell_type": "code",
   "execution_count": 3,
   "metadata": {},
   "outputs": [],
   "source": [
    "def recall_pattern(weight_matrix, input_pattern, max_iter=10):\n",
    "    output = np.array(input_pattern)\n",
    "    for _ in range(max_iter):\n",
    "        for i in range(len(output)):\n",
    "            net_input = np.dot(weight_matrix[i], output)\n",
    "            output[i] = 1 if net_input >= 0 else -1\n",
    "    return output"
   ]
  },
  {
   "cell_type": "code",
   "execution_count": 4,
   "metadata": {},
   "outputs": [
    {
     "name": "stdout",
     "output_type": "stream",
     "text": [
      "Original Pattern: [-1, 1, -1, -1, -1, -1, -1, 1, -1, 1]\n",
      "Noisy Pattern: [-1, -1, -1, 1, -1, -1, -1, 1, -1, -1]\n",
      "Recovered Pattern: [-1  1 -1 -1 -1 -1 -1  1 -1  1]\n"
     ]
    }
   ],
   "source": [
    "orignal = [-1, 1, -1, -1, -1, -1, -1, 1, -1, 1]\n",
    "weights = train_hopfield([orignal])\n",
    "noisy = [-1, -1, -1, 1, -1, -1, -1, 1, -1, -1]\n",
    "print(f\"Original Pattern: {orignal}\")\n",
    "print(f\"Noisy Pattern: {noisy}\")\n",
    "print(f\"Recovered Pattern: {recall_pattern(weights, noisy)}\")"
   ]
  }
 ],
 "metadata": {
  "kernelspec": {
   "display_name": "Python 3",
   "language": "python",
   "name": "python3"
  },
  "language_info": {
   "codemirror_mode": {
    "name": "ipython",
    "version": 3
   },
   "file_extension": ".py",
   "mimetype": "text/x-python",
   "name": "python",
   "nbconvert_exporter": "python",
   "pygments_lexer": "ipython3",
   "version": "3.11.4"
  }
 },
 "nbformat": 4,
 "nbformat_minor": 2
}
