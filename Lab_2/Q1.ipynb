{
 "cells": [
  {
   "cell_type": "markdown",
   "id": "4b0a3920",
   "metadata": {},
   "source": [
    "# Error Correction for Learning"
   ]
  },
  {
   "cell_type": "code",
   "execution_count": 1,
   "id": "e8adafdc",
   "metadata": {},
   "outputs": [],
   "source": [
    "import numpy as np"
   ]
  },
  {
   "cell_type": "markdown",
   "id": "f4332b8b",
   "metadata": {},
   "source": [
    "### Neuron"
   ]
  },
  {
   "cell_type": "code",
   "execution_count": 2,
   "id": "d7328a54",
   "metadata": {},
   "outputs": [],
   "source": [
    "class Neuron:\n",
    "    def __init__(self, num_inputs):\n",
    "        # random values\n",
    "        self.weights = np.random.rand(num_inputs)\n",
    "        self.bias = np.random.rand()\n",
    "\n",
    "    def activate(self, inputs):\n",
    "        # compute the weighted sum of inputs and bias\n",
    "        weighted_sum = np.dot(inputs, self.weights) + self.bias\n",
    "        # apply activation function (eg. sigmoid)\n",
    "        activation = self.sigmoid(weighted_sum)\n",
    "        return activation\n",
    "\n",
    "    def sigmoid(self, x):\n",
    "        return 1 / (1 + np.exp(-x))\n",
    "\n",
    "    def train(self, inputs, target_output, learning_rate):\n",
    "        actual_output = self.activate(inputs)\n",
    "\n",
    "        error = target_output - actual_output\n",
    "\n",
    "        self.weights += learning_rate * error * inputs\n",
    "        self.bias += learning_rate * error"
   ]
  },
  {
   "cell_type": "markdown",
   "id": "d1785890",
   "metadata": {},
   "source": [
    "### Train & Test"
   ]
  },
  {
   "cell_type": "code",
   "execution_count": 3,
   "id": "1a249bea",
   "metadata": {},
   "outputs": [
    {
     "name": "stdout",
     "output_type": "stream",
     "text": [
      "Inputs: [0 0 1] Outputs: 0.005455867228504328\n",
      "Inputs: [1 1 1] Outputs: 0.9954353998872582\n",
      "Inputs: [1 0 1] Outputs: 0.9962828237926844\n",
      "Inputs: [0 1 1] Outputs: 0.004443717082907442\n"
     ]
    }
   ],
   "source": [
    "num_inputs = 3\n",
    "neuron = Neuron(num_inputs)\n",
    "\n",
    "X_train = np.array([[0, 0, 1], [1, 1, 1], [1, 0, 1], [0, 1, 1]])\n",
    "y_train = np.array([0, 1, 1, 0])\n",
    "\n",
    "learning_rate = 0.1\n",
    "\n",
    "num_iterations = 10000\n",
    "\n",
    "for i in range(num_iterations):\n",
    "    index = np.random.randint(len(X_train))\n",
    "    inputs = X_train[index]\n",
    "    target_output = y_train[index]\n",
    "    neuron.train(inputs, target_output, learning_rate)\n",
    "\n",
    "test_data = np.array([[0, 0, 1], [1, 1, 1], [1, 0, 1], [0, 1, 1]])\n",
    "for inputs in test_data:\n",
    "    output = neuron.activate(inputs)\n",
    "    print(\"Inputs:\", inputs, \"Outputs:\", output)"
   ]
  }
 ],
 "metadata": {
  "kernelspec": {
   "display_name": "base",
   "language": "python",
   "name": "python3"
  },
  "language_info": {
   "codemirror_mode": {
    "name": "ipython",
    "version": 3
   },
   "file_extension": ".py",
   "mimetype": "text/x-python",
   "name": "python",
   "nbconvert_exporter": "python",
   "pygments_lexer": "ipython3",
   "version": "3.11.3"
  }
 },
 "nbformat": 4,
 "nbformat_minor": 5
}
