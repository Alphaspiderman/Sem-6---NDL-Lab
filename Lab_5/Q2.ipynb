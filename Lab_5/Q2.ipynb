{
 "cells": [
  {
   "cell_type": "code",
   "execution_count": 1,
   "metadata": {},
   "outputs": [],
   "source": [
    "import numpy as np"
   ]
  },
  {
   "cell_type": "code",
   "execution_count": 2,
   "metadata": {},
   "outputs": [],
   "source": [
    "class RecurrentNeuralNetwork:\n",
    "    def __init__(self, input_dim, hidden_dim, output_dim, lr=0.001, time_steps=5):\n",
    "        self.input_dim = input_dim\n",
    "        self.hidden_dim = hidden_dim\n",
    "        self.output_dim = output_dim\n",
    "        self.lr = lr\n",
    "        self.time_steps = time_steps\n",
    "        self.Wxh = np.random.randn(hidden_dim, input_dim) * 0.01\n",
    "        self.Whh = np.random.randn(hidden_dim, hidden_dim) * 0.01\n",
    "        self.Why = np.random.randn(output_dim, hidden_dim) * 0.01\n",
    "        self.bh = np.zeros((hidden_dim, 1))\n",
    "        self.by = np.zeros((output_dim, 1))\n",
    "\n",
    "    def forward(self, inputs):\n",
    "        \"\"\"Forward pass through time.\"\"\"\n",
    "        h = np.zeros((self.hidden_dim, 1))\n",
    "        self.h_states = {-1: h}\n",
    "        self.outputs = {}\n",
    "        for t in range(self.time_steps):\n",
    "            h = np.tanh(\n",
    "                np.dot(self.Wxh, inputs[t])\n",
    "                + np.dot(self.Whh, self.h_states[t - 1])\n",
    "                + self.bh\n",
    "            )\n",
    "            y = np.dot(self.Why, h) + self.by\n",
    "            self.h_states[t] = h\n",
    "            self.outputs[t] = y\n",
    "        return self.outputs\n",
    "\n",
    "    def backward(self, inputs, targets):\n",
    "        \"\"\"Backward pass using Backpropagation Through Time (BPTT).\"\"\"\n",
    "        dWxh = np.zeros_like(self.Wxh)\n",
    "        dWhh = np.zeros_like(self.Whh)\n",
    "        dWhy = np.zeros_like(self.Why)\n",
    "        dbh = np.zeros_like(self.bh)\n",
    "        dby = np.zeros_like(self.by)\n",
    "        dh_next = np.zeros((self.hidden_dim, 1))\n",
    "        for t in reversed(range(self.time_steps)):\n",
    "            dy = self.outputs[t] - targets[t]\n",
    "            dWhy += np.dot(dy, self.h_states[t].T)\n",
    "            dby += dy\n",
    "            dh = np.dot(self.Why.T, dy) + dh_next\n",
    "            dh_raw = (1 - self.h_states[t] ** 2) * dh  # Derivative of tanh\n",
    "            dbh += dh_raw\n",
    "            dWxh += np.dot(dh_raw, inputs[t].T)\n",
    "            dWhh += np.dot(dh_raw, self.h_states[t - 1].T)\n",
    "            dh_next = np.dot(self.Whh.T, dh_raw)\n",
    "        for param, dparam in zip(\n",
    "            [self.Wxh, self.Whh, self.Why, self.bh, self.by],\n",
    "            [dWxh, dWhh, dWhy, dbh, dby],\n",
    "        ):\n",
    "            np.clip(dparam, -5, 5, out=dparam)\n",
    "            param -= self.lr * dparam\n",
    "\n",
    "    def train(self, data, labels, epochs=100):\n",
    "        \"\"\"Train the network over multiple epochs.\"\"\"\n",
    "        for ep in range(epochs):\n",
    "            loss = 0\n",
    "            for i, t in zip(data, labels):\n",
    "                outputs = self.forward(i)\n",
    "                self.backward(i, t)\n",
    "                loss += (\n",
    "                    np.sum((outputs[self.time_steps - 1] - t[self.time_steps - 1]) ** 2)\n",
    "                    / 2\n",
    "                )\n",
    "            if ep % 10 == 0:\n",
    "                print(f\"Epoch {ep}, Loss: {loss:.4f}\")"
   ]
  },
  {
   "cell_type": "code",
   "execution_count": 3,
   "metadata": {},
   "outputs": [
    {
     "name": "stdout",
     "output_type": "stream",
     "text": [
      "Epoch 0, Loss: 1.0231\n",
      "Epoch 10, Loss: 1.0217\n",
      "Epoch 20, Loss: 1.0217\n",
      "Epoch 30, Loss: 1.0217\n",
      "Epoch 40, Loss: 1.0217\n"
     ]
    }
   ],
   "source": [
    "time_steps = 5\n",
    "input_dim = 3\n",
    "hidden_dim = 4\n",
    "output_dim = 2\n",
    "data = [np.random.randn(time_steps, input_dim, 1) * 0.1 for _ in range(100)]\n",
    "labels = [np.random.randn(time_steps, output_dim, 1) * 0.1 for _ in range(100)]\n",
    "rnn = RecurrentNeuralNetwork(input_dim, hidden_dim, output_dim)\n",
    "rnn.train(data, labels, epochs=50)"
   ]
  }
 ],
 "metadata": {
  "kernelspec": {
   "display_name": "Python 3",
   "language": "python",
   "name": "python3"
  },
  "language_info": {
   "codemirror_mode": {
    "name": "ipython",
    "version": 3
   },
   "file_extension": ".py",
   "mimetype": "text/x-python",
   "name": "python",
   "nbconvert_exporter": "python",
   "pygments_lexer": "ipython3",
   "version": "3.11.4"
  }
 },
 "nbformat": 4,
 "nbformat_minor": 2
}
