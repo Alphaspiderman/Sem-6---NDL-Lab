{
 "cells": [
  {
   "cell_type": "markdown",
   "metadata": {},
   "source": [
    "# Gate Operations via Single Layer Perceptron"
   ]
  },
  {
   "cell_type": "code",
   "execution_count": 1,
   "metadata": {},
   "outputs": [],
   "source": [
    "import numpy as np"
   ]
  },
  {
   "cell_type": "markdown",
   "metadata": {},
   "source": [
    "#### Functions"
   ]
  },
  {
   "cell_type": "code",
   "execution_count": 2,
   "metadata": {},
   "outputs": [],
   "source": [
    "def activate(x):\n",
    "    return 1 if x > 0 else 0"
   ]
  },
  {
   "cell_type": "code",
   "execution_count": 3,
   "metadata": {},
   "outputs": [],
   "source": [
    "def print_output(x, w, b, g):\n",
    "    print(f\"{g} Gate\")\n",
    "    for inp in x:\n",
    "        print(f\"Input: {inp} Output: {activate(np.dot(inp, w) + b)}\")"
   ]
  },
  {
   "cell_type": "code",
   "execution_count": 4,
   "metadata": {},
   "outputs": [],
   "source": [
    "def perceptron_learning(X, y, learning_rate=0.1, epochs=10):\n",
    "    weights = np.zeros(X.shape[1])\n",
    "    bias = 0\n",
    "\n",
    "    for epoch in range(epochs):\n",
    "        for i in range(len(X)):\n",
    "            linear_output = np.dot(X[i], weights) + bias\n",
    "            prediction = activate(linear_output)\n",
    "            error = y[i] - prediction\n",
    "            weights += learning_rate * error * X[i]\n",
    "            bias += learning_rate * error\n",
    "\n",
    "    return weights, bias"
   ]
  },
  {
   "cell_type": "markdown",
   "metadata": {},
   "source": [
    "#### General input"
   ]
  },
  {
   "cell_type": "code",
   "execution_count": 5,
   "metadata": {},
   "outputs": [],
   "source": [
    "X = np.array([[0, 0], [0, 1], [1, 0], [1, 1]])"
   ]
  },
  {
   "cell_type": "markdown",
   "metadata": {},
   "source": [
    "\n",
    "#### AND Gate"
   ]
  },
  {
   "cell_type": "code",
   "execution_count": 6,
   "metadata": {},
   "outputs": [
    {
     "name": "stdout",
     "output_type": "stream",
     "text": [
      "AND Gate\n",
      "Input: [0 0] Output: 0\n",
      "Input: [0 1] Output: 0\n",
      "Input: [1 0] Output: 0\n",
      "Input: [1 1] Output: 1\n"
     ]
    }
   ],
   "source": [
    "y_and = np.array([0, 0, 0, 1])\n",
    "\n",
    "w_and, b_and = perceptron_learning(X, y_and)\n",
    "print_output(X, w_and, b_and, \"AND\")"
   ]
  },
  {
   "cell_type": "markdown",
   "metadata": {},
   "source": [
    "#### OR Gate"
   ]
  },
  {
   "cell_type": "code",
   "execution_count": 7,
   "metadata": {},
   "outputs": [
    {
     "name": "stdout",
     "output_type": "stream",
     "text": [
      "OR Gate\n",
      "Input: [0 0] Output: 0\n",
      "Input: [0 1] Output: 1\n",
      "Input: [1 0] Output: 1\n",
      "Input: [1 1] Output: 1\n"
     ]
    }
   ],
   "source": [
    "y_or = np.array([0, 1, 1, 1])\n",
    "\n",
    "w_or, b_or = perceptron_learning(X, y_or)\n",
    "\n",
    "print_output(X, w_or, b_or, \"OR\")"
   ]
  },
  {
   "cell_type": "markdown",
   "metadata": {},
   "source": [
    "#### XOR Gate"
   ]
  },
  {
   "cell_type": "code",
   "execution_count": 8,
   "metadata": {},
   "outputs": [
    {
     "name": "stdout",
     "output_type": "stream",
     "text": [
      "XOR Gate\n",
      "Input: [0 0] Output: 1\n",
      "Input: [0 1] Output: 1\n",
      "Input: [1 0] Output: 0\n",
      "Input: [1 1] Output: 0\n"
     ]
    }
   ],
   "source": [
    "y_xor = np.array([0, 1, 1, 0])\n",
    "\n",
    "w_xor, b_xor = perceptron_learning(X, y_xor)\n",
    "\n",
    "print_output(X, w_xor, b_xor, \"XOR\")"
   ]
  }
 ],
 "metadata": {
  "kernelspec": {
   "display_name": "Python 3",
   "language": "python",
   "name": "python3"
  },
  "language_info": {
   "codemirror_mode": {
    "name": "ipython",
    "version": 3
   },
   "file_extension": ".py",
   "mimetype": "text/x-python",
   "name": "python",
   "nbconvert_exporter": "python",
   "pygments_lexer": "ipython3",
   "version": "3.11.4"
  }
 },
 "nbformat": 4,
 "nbformat_minor": 2
}
