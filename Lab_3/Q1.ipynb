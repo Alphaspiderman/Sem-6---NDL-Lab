{
 "cells": [
  {
   "cell_type": "markdown",
   "metadata": {},
   "source": [
    "# Hebbian learning"
   ]
  },
  {
   "cell_type": "code",
   "execution_count": 2,
   "metadata": {},
   "outputs": [],
   "source": [
    "import numpy as np"
   ]
  },
  {
   "cell_type": "markdown",
   "metadata": {},
   "source": [
    "### Neuron"
   ]
  },
  {
   "cell_type": "code",
   "execution_count": 6,
   "metadata": {},
   "outputs": [],
   "source": [
    "class Neuron:\n",
    "    def __init__(self, num_inputs):\n",
    "        self.weights = np.random.rand(num_inputs)\n",
    "    def activation(self, inputs):\n",
    "        return np.dot(self.weights, inputs)\n",
    "    def learn_hebbian(self, inputs, learning_rate):\n",
    "        self.weights +=  np.multiply(inputs, learning_rate * self.activation(inputs))"
   ]
  },
  {
   "cell_type": "markdown",
   "metadata": {},
   "source": [
    "### Train & Test"
   ]
  },
  {
   "cell_type": "code",
   "execution_count": 7,
   "metadata": {},
   "outputs": [
    {
     "name": "stdout",
     "output_type": "stream",
     "text": [
      "Learned Weights: [1.54436704e+16 9.26620222e+15 6.17746814e+15]\n"
     ]
    }
   ],
   "source": [
    "k = 3\n",
    "neuron = Neuron(k)\n",
    "\n",
    "input = [0.5, 0.3, 0.2]\n",
    "learning_rate = 0.1\n",
    "num_iter = 1000\n",
    "for i in range(num_iter):\n",
    "    neuron.learn_hebbian(input, learning_rate)\n",
    "\n",
    "print(f\"Learned Weights: {neuron.weights}\")"
   ]
  },
  {
   "cell_type": "code",
   "execution_count": null,
   "metadata": {},
   "outputs": [],
   "source": []
  }
 ],
 "metadata": {
  "kernelspec": {
   "display_name": "Python 3",
   "language": "python",
   "name": "python3"
  },
  "language_info": {
   "codemirror_mode": {
    "name": "ipython",
    "version": 3
   },
   "file_extension": ".py",
   "mimetype": "text/x-python",
   "name": "python",
   "nbconvert_exporter": "python",
   "pygments_lexer": "ipython3",
   "version": "3.11.4"
  }
 },
 "nbformat": 4,
 "nbformat_minor": 2
}
