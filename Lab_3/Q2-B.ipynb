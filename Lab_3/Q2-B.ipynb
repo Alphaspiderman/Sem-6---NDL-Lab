{
 "cells": [
  {
   "cell_type": "markdown",
   "metadata": {},
   "source": [
    "# Multi-Layer Perception for XOR Gate"
   ]
  },
  {
   "cell_type": "code",
   "execution_count": 1,
   "metadata": {},
   "outputs": [],
   "source": [
    "import numpy as np\n",
    "\n",
    "np.random.seed(0)"
   ]
  },
  {
   "cell_type": "code",
   "execution_count": 2,
   "metadata": {},
   "outputs": [],
   "source": [
    "def sigmoid(x):\n",
    "    return 1 / (1 + np.exp(-x))"
   ]
  },
  {
   "cell_type": "code",
   "execution_count": 3,
   "metadata": {},
   "outputs": [],
   "source": [
    "def sigmod_derivative(x):\n",
    "    return x * (1 - x)"
   ]
  },
  {
   "cell_type": "code",
   "execution_count": 4,
   "metadata": {},
   "outputs": [],
   "source": [
    "inputs = np.array([[0, 0], [0, 1], [1, 0], [1, 1]])\n",
    "outputs = np.array([[0], [1], [1], [0]])"
   ]
  },
  {
   "cell_type": "code",
   "execution_count": 5,
   "metadata": {},
   "outputs": [],
   "source": [
    "epochs = 10000\n",
    "lrs = [0.01, 0.1, 0.5]"
   ]
  },
  {
   "cell_type": "code",
   "execution_count": 6,
   "metadata": {},
   "outputs": [
    {
     "name": "stdout",
     "output_type": "stream",
     "text": [
      "Final mse: 0.24996218851951224\n",
      "XOR Prediction\n",
      "[0 0] -> [[0.50094321]]\n",
      "[0 1] -> [[0.4964616]]\n",
      "[1 0] -> [[0.5039889]]\n",
      "[1 1] -> [[0.49932624]]\n",
      "Final mse: 0.1334880956603835\n",
      "XOR Prediction\n",
      "[0 0] -> [[0.49982764]]\n",
      "[0 1] -> [[0.48180357]]\n",
      "[1 0] -> [[0.92061097]]\n",
      "[1 1] -> [[0.09637539]]\n",
      "Stopping Early at epoch 1007 with mse 0.009976129054966337\n",
      "Final mse: 0.009976129054966337\n",
      "XOR Prediction\n",
      "[0 0] -> [[0.09855656]]\n",
      "[0 1] -> [[0.9037147]]\n",
      "[1 0] -> [[0.90355386]]\n",
      "[1 1] -> [[0.10728083]]\n"
     ]
    }
   ],
   "source": [
    "for lr in lrs:\n",
    "    hw = np.random.uniform(-1, 1, (2, 2))\n",
    "    hb = np.random.uniform(-1, 1, (1, 2))\n",
    "    ow = np.random.uniform(-1, 1, (2, 1))\n",
    "    ob = np.random.uniform(-1, 1, (1, 1))\n",
    "\n",
    "    for e in range(epochs):\n",
    "        hl_in = np.dot(inputs, hw) + hb\n",
    "        hl_out = sigmoid(hl_in)\n",
    "        ol_in = np.dot(hl_out, ow) + ob\n",
    "        ol_out = sigmoid(ol_in)\n",
    "\n",
    "        error = outputs - ol_out\n",
    "        mse = np.mean(np.square(error))\n",
    "\n",
    "        # Backpropagation\n",
    "        dpred_dout = error * sigmod_derivative(ol_out)\n",
    "\n",
    "        x = np.dot(dpred_dout, ow.T)\n",
    "        dhl = np.multiply(x, sigmod_derivative(hl_out))\n",
    "\n",
    "        ow += np.dot(hl_out.T, dpred_dout) * lr\n",
    "        ob += np.sum(dpred_dout, axis=0, keepdims=True) * lr\n",
    "        hw += np.dot(inputs.T, dhl) * lr\n",
    "        hb += np.sum(dhl, axis=0, keepdims=True) * lr\n",
    "\n",
    "        if mse < 0.01:\n",
    "            print(f\"Stopping Early at epoch {e} with mse {mse}\")\n",
    "            break\n",
    "\n",
    "    print(f\"Final mse: {mse}\")\n",
    "\n",
    "    print(\"XOR Prediction\")\n",
    "    for i in inputs:\n",
    "        hl_in = np.dot(i, hw) + hb\n",
    "        hl_out = sigmoid(hl_in)\n",
    "        ol_in = np.dot(hl_out, ow) + ob\n",
    "        ol_out = sigmoid(ol_in)\n",
    "        print(f\"{i} -> {ol_out}\")"
   ]
  }
 ],
 "metadata": {
  "kernelspec": {
   "display_name": "Python 3",
   "language": "python",
   "name": "python3"
  },
  "language_info": {
   "codemirror_mode": {
    "name": "ipython",
    "version": 3
   },
   "file_extension": ".py",
   "mimetype": "text/x-python",
   "name": "python",
   "nbconvert_exporter": "python",
   "pygments_lexer": "ipython3",
   "version": "3.11.4"
  }
 },
 "nbformat": 4,
 "nbformat_minor": 2
}
